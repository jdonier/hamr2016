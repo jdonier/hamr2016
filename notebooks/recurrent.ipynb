{
 "cells": [
  {
   "cell_type": "code",
   "execution_count": 1,
   "metadata": {
    "collapsed": false
   },
   "outputs": [],
   "source": [
    "import hamr2016\n",
    "import tensorflow as tf\n",
    "import numpy as np\n",
    "import tqdm"
   ]
  },
  {
   "cell_type": "code",
   "execution_count": 2,
   "metadata": {
    "collapsed": true
   },
   "outputs": [],
   "source": [
    "track = hamr2016.Track.from_file('../data/for_elise_by_beethoven.mid')\n",
    "matrix = track.to_matrix()"
   ]
  },
  {
   "cell_type": "code",
   "execution_count": 3,
   "metadata": {
    "collapsed": false
   },
   "outputs": [],
   "source": [
    "num_midi = 88\n",
    "placeholder_width = 16\n",
    "num_filters = [1, 1]\n",
    "intermediate_results = []\n",
    "\n",
    "with tf.Graph().as_default() as graph:\n",
    "    # Create a placeholder with indeterminate first dimension (batch size)\n",
    "    # and append a single dimension for the convolutional layer\n",
    "    input_placeholder = tf.placeholder(\n",
    "        tf.float32, \n",
    "        (None, num_midi, placeholder_width, 1),\n",
    "        'input_placeholder'\n",
    "    )\n",
    "    output_placeholder = tf.placeholder(\n",
    "        tf.float32,\n",
    "        (None, num_midi),\n",
    "        'output_placeholder'\n",
    "    )\n",
    "    # Determine the previous number of channels\n",
    "    previous = 1\n",
    "    previous_output = input_placeholder\n",
    "    # Apply multiple convolutional layers\n",
    "    for i, current in enumerate(num_filters):\n",
    "        with tf.variable_scope('conv2d_{}'.format(i)):\n",
    "            # Create weights for a convolutional layer\n",
    "            weights = tf.get_variable(\n",
    "                'weights', [8, 8, previous, current],\n",
    "                initializer=tf.truncated_normal_initializer()\n",
    "            )\n",
    "            # Apply the filter\n",
    "            result = tf.nn.conv2d(\n",
    "                previous_output, weights, [1, 1, 1, 1], 'VALID', name='result'\n",
    "            )\n",
    "            # Add a bias\n",
    "            bias = tf.get_variable(\n",
    "                'bias',\n",
    "                initializer=tf.zeros_initializer(current)\n",
    "            )\n",
    "            result = tf.nn.bias_add(result, bias)\n",
    "            # Apply relu\n",
    "            result = tf.nn.relu(result)\n",
    "            # Update the filter size and input\n",
    "            previous_output = result\n",
    "            previous = current\n",
    "            intermediate_results.append(result)\n",
    "            \n",
    "    with tf.variable_scope('fully_connected'):\n",
    "        # Flatten the last layer \n",
    "        size = np.prod(result.get_shape().as_list()[1:])\n",
    "        fc_input = tf.reshape(result, (-1, size))\n",
    "        weights = tf.get_variable(\n",
    "            'weights', [size, num_midi],\n",
    "            initializer=tf.truncated_normal_initializer()\n",
    "        )\n",
    "        bias = tf.get_variable('bias', initializer=tf.zeros_initializer(num_midi))\n",
    "        logits = tf.nn.bias_add(tf.matmul(fc_input, weights), bias)\n",
    "\n",
    "    # Compute the loss\n",
    "    loss = tf.nn.sigmoid_cross_entropy_with_logits(logits, output_placeholder)\n",
    "    # Add an optimizer\n",
    "    optimizer = tf.train.AdamOptimizer()\n",
    "    train = optimizer.minimize(loss)\n",
    "            \n",
    "    init_op = tf.initialize_all_variables()\n",
    "    \n",
    "session = tf.Session(graph=graph)\n",
    "session.run(init_op)"
   ]
  },
  {
   "cell_type": "code",
   "execution_count": 4,
   "metadata": {
    "collapsed": false
   },
   "outputs": [],
   "source": [
    "batch_size = None\n",
    "features, output = matrix.next_batch(placeholder_width, batch_size)"
   ]
  },
  {
   "cell_type": "code",
   "execution_count": 5,
   "metadata": {
    "collapsed": false
   },
   "outputs": [
    {
     "data": {
      "text/plain": [
       "(780, 88, 16)"
      ]
     },
     "execution_count": 5,
     "metadata": {},
     "output_type": "execute_result"
    }
   ],
   "source": [
    "features.shape"
   ]
  },
  {
   "cell_type": "code",
   "execution_count": 6,
   "metadata": {
    "collapsed": false
   },
   "outputs": [],
   "source": [
    "feed_dict = {\n",
    "    input_placeholder: features[..., None], \n",
    "    output_placeholder: output\n",
    "}\n",
    "loss_value = session.run(loss, feed_dict)"
   ]
  },
  {
   "cell_type": "code",
   "execution_count": null,
   "metadata": {
    "collapsed": false
   },
   "outputs": [
    {
     "name": "stderr",
     "output_type": "stream",
     "text": [
      "  0%|          | 1/10000 [00:00<1:26:34,  1.92it/s]"
     ]
    },
    {
     "name": "stdout",
     "output_type": "stream",
     "text": [
      "1.83534\n"
     ]
    },
    {
     "name": "stderr",
     "output_type": "stream",
     "text": [
      "  1%|          | 61/10000 [00:30<1:24:25,  1.96it/s]"
     ]
    }
   ],
   "source": [
    "for step in tqdm.trange(10000):\n",
    "    _, loss_value = session.run([train, loss], feed_dict)\n",
    "    if step % 100 == 0:\n",
    "        tqdm.tqdm.write(str(np.mean(loss_value)))"
   ]
  },
  {
   "cell_type": "code",
   "execution_count": null,
   "metadata": {
    "collapsed": true
   },
   "outputs": [],
   "source": []
  }
 ],
 "metadata": {
  "kernelspec": {
   "display_name": "Python 2",
   "language": "python",
   "name": "python2"
  },
  "language_info": {
   "codemirror_mode": {
    "name": "ipython",
    "version": 2
   },
   "file_extension": ".py",
   "mimetype": "text/x-python",
   "name": "python",
   "nbconvert_exporter": "python",
   "pygments_lexer": "ipython2",
   "version": "2.7.12"
  }
 },
 "nbformat": 4,
 "nbformat_minor": 0
}
